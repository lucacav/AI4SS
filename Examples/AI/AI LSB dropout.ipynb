{
 "cells": [
  {
   "cell_type": "markdown",
   "id": "21febb75-2052-46d0-9786-ae8f5495c68c",
   "metadata": {},
   "source": [
    "#### A Jupyter Notebook for training a classification deep network used for classifying handwritten digits, i.e., MNIST dataset. After the training of the network, we will embed a watermark within some network weights and use it in inference mode"
   ]
  },
  {
   "cell_type": "code",
   "execution_count": 1,
   "id": "4d473311-7688-4637-aeb5-b73f6c2685c5",
   "metadata": {},
   "outputs": [],
   "source": [
    "import numpy as np\n",
    "import matplotlib.pyplot as plt\n",
    "\n",
    "import random\n",
    "\n",
    "import torch\n",
    "import torch.nn as nn\n",
    "\n",
    "import torchvision\n",
    "import torchvision.datasets as datasets\n",
    "import torchvision.transforms as transforms\n",
    "\n",
    "seed = 101\n",
    "\n",
    "np.random.seed(seed)\n",
    "random.seed(seed)\n",
    "torch.manual_seed(seed)\n",
    "torch.cuda.manual_seed(seed)\n",
    "torch.cuda.manual_seed_all(seed)\n",
    "torch.use_deterministic_algorithms = True\n",
    "torch.backends.cudnn.benchmark = False"
   ]
  },
  {
   "cell_type": "markdown",
   "id": "aac50d5f-ba1b-47a1-8b8e-5dc2b2602c0a",
   "metadata": {},
   "source": [
    "#### Utility methods"
   ]
  },
  {
   "cell_type": "code",
   "execution_count": 2,
   "id": "b3affb5a-7148-47f8-88c3-81def7ed88ef",
   "metadata": {},
   "outputs": [],
   "source": [
    "def train(net, criterion, optimizer, n_epochs, train_loader, path_model='net.pt'):\n",
    "    losses = []\n",
    "\n",
    "    for epoch in range(n_epochs):\n",
    "        net.train()\n",
    "\n",
    "        running_loss = 0.0\n",
    "        for i, data in enumerate(train_loader, 0):\n",
    "            x, y = data\n",
    "            x, y = x.to(device), y.to(device)\n",
    "\n",
    "            optimizer.zero_grad()\n",
    "            y_pred = net(x)\n",
    "            loss = criterion(y_pred, y)\n",
    "            loss.backward()\n",
    "            optimizer.step()\n",
    "\n",
    "            running_loss += loss.item()\n",
    "\n",
    "        losses.append(running_loss / len(train_loader))\n",
    "        print(f'Epoch {epoch + 1}, Loss: {running_loss / len(train_loader)}')\n",
    "\n",
    "    torch.save(net.state_dict(), path_model)\n",
    "    \n",
    "    plt.plot(range(0, len(losses)), losses)\n",
    "    plt.title('Training losses')\n",
    "    plt.show()\n",
    "    \n",
    "def test(net, test_loader):\n",
    "    net.eval()\n",
    "    correct = 0\n",
    "    total = 0\n",
    "    with torch.no_grad():\n",
    "        for data in test_loader:\n",
    "            x, y = data\n",
    "            x, y = x.to(device), y.to(device)\n",
    "            y_preds = net(x)\n",
    "            _, predicted = torch.max(y_preds.data, 1)\n",
    "            total += y.size(0)\n",
    "            correct += (predicted == y).sum().item()\n",
    "            \n",
    "    return correct, total"
   ]
  },
  {
   "cell_type": "code",
   "execution_count": 3,
   "id": "e0481867-b515-4db4-a027-71465d181d47",
   "metadata": {},
   "outputs": [],
   "source": [
    "def float_to_bin(x):\n",
    "    # Convert float to binary representation\n",
    "    return ''.join(f'{byte:08b}' for byte in np.float32(x).tobytes())\n",
    "\n",
    "def bin_to_float(b):\n",
    "    # Convert binary representation back to float\n",
    "    int_bits = int(b, 2)\n",
    "    return np.frombuffer(int_bits.to_bytes(4, byteorder='big'), dtype=np.float32)[0]\n",
    "\n",
    "def add_watermark_lsb(net, watermark):\n",
    "    watermark_bits = ''.join(f'{ord(c):08b}' for c in watermark) # Convert watermark to binary\n",
    "    watermark_index = 0\n",
    "\n",
    "    with torch.no_grad():\n",
    "        for name, param in net.named_parameters():\n",
    "            if name == 'fc2.weight':\n",
    "                param_data = param.cpu().numpy()\n",
    "                for i in np.ndindex(param_data.shape):\n",
    "                    if watermark_index < len(watermark_bits):\n",
    "                        original_bin = float_to_bin(param_data[i])\n",
    "                        new_bin = original_bin[:-1] + watermark_bits[watermark_index]\n",
    "                        param_data[i] = bin_to_float(new_bin)\n",
    "                        watermark_index += 1\n",
    "                param.copy_(torch.tensor(param_data, device=param.device))\n",
    "\n",
    "                \n",
    "def extract_watermark(net, watermark_length):\n",
    "    extracted_bits = ''\n",
    "    \n",
    "    with torch.no_grad():\n",
    "        for name, param in net.named_parameters():\n",
    "            if name == 'fc2.weight':\n",
    "                param_data = param.cpu().numpy()\n",
    "                for i in np.ndindex(param_data.shape):\n",
    "                    original_bin = float_to_bin(param_data[i])\n",
    "                    extracted_bits += original_bin[-1]\n",
    "    watermark_chars = [chr(int(extracted_bits[i:i+8], 2)) for i in range(0, len(extracted_bits), 8)]\n",
    "    return ''.join(watermark_chars[:watermark_length])"
   ]
  },
  {
   "cell_type": "markdown",
   "id": "f8a134b3-b2b8-40c4-b103-21a828d5ce2c",
   "metadata": {},
   "source": [
    "#### Define the neural network"
   ]
  },
  {
   "cell_type": "code",
   "execution_count": 4,
   "id": "8271300e-c323-4fd0-ba0d-ae03d0c3a981",
   "metadata": {},
   "outputs": [],
   "source": [
    "class Net(nn.Module):\n",
    "    def __init__(self, n_channels=1, h_size=28, w_size=28, last_size=64, hidden_dim=8, n_classes=10):\n",
    "        super(Net, self).__init__()\n",
    "        self.n_channels = n_channels\n",
    "        self.h_size = h_size\n",
    "        self.w_size = w_size\n",
    "        self.last_size = last_size\n",
    "        self.n_classes = n_classes\n",
    "        self.hidden_dim = hidden_dim\n",
    "        \n",
    "        self.embedder = nn.Sequential(\n",
    "            nn.Conv2d(self.n_channels, self.last_size//2, kernel_size=3, stride=2),\n",
    "            nn.ReLU(),\n",
    "            nn.Conv2d(self.last_size//2, self.last_size, kernel_size=3, stride=2),\n",
    "            nn.ReLU(),\n",
    "            nn.Conv2d(self.last_size, self.last_size, kernel_size=3, stride=2),\n",
    "            nn.ReLU()\n",
    "        )\n",
    "        \n",
    "        \n",
    "        out = self.embedder(torch.rand(1, self.n_channels, self.h_size, self.w_size))\n",
    "        self.size = out.shape[2]\n",
    "\n",
    "        self.fc1 = nn.Linear(self.last_size * self.size * self.size, self.last_size)\n",
    "        self.fc2 = nn.Linear(self.last_size, self.hidden_dim)\n",
    "        self.out = nn.Linear(self.hidden_dim, self.n_classes)\n",
    "        \n",
    "        self.relu = nn.ReLU()\n",
    "        self.dropout = nn.Dropout(p=0.5)\n",
    "        \n",
    "        self.init_weights()\n",
    "        \n",
    "    def init_weights(self):\n",
    "        for m in self.modules():\n",
    "            if isinstance(m, nn.Conv2d):\n",
    "                nn.init.kaiming_normal_(\n",
    "                    m.weight, mode='fan_out', nonlinearity='relu')\n",
    "                if m.bias is not None:\n",
    "                    nn.init.constant_(m.bias, 0)\n",
    "            elif isinstance(m, nn.Linear):\n",
    "                nn.init.normal_(m.weight, 0, 0.01)\n",
    "                nn.init.constant_(m.bias, 0)\n",
    "        \n",
    "    def forward(self, x):\n",
    "        x1 = self.embedder(x)\n",
    "        x1 = x1.view(x1.shape[0], -1)\n",
    "        \n",
    "        x2 = self.fc1(x1)\n",
    "        x2 = self.dropout(x2)\n",
    "        x2 = self.fc2(self.relu(x2))\n",
    "        y = self.out(self.relu(x2))\n",
    "        \n",
    "        return y"
   ]
  },
  {
   "cell_type": "markdown",
   "id": "15addabd-4809-499a-ae35-9c157ccc1f55",
   "metadata": {},
   "source": [
    "#### Load the data"
   ]
  },
  {
   "cell_type": "code",
   "execution_count": 5,
   "id": "a2010d54-678b-4e04-aa59-8c9ba3fb18b2",
   "metadata": {},
   "outputs": [],
   "source": [
    "batch_size = 64\n",
    "n_epochs = 20\n",
    "\n",
    "path_model='net.pt'"
   ]
  },
  {
   "cell_type": "code",
   "execution_count": 6,
   "id": "86f027b2-948e-492e-bbc9-4550cfe9307c",
   "metadata": {},
   "outputs": [],
   "source": [
    "transform = transforms.Compose([transforms.ToTensor()])\n",
    "\n",
    "train_set = datasets.MNIST(root='./data', train=True, download=True, transform=transform) \n",
    "test_set = datasets.MNIST(root='./data', train=False, download=True, transform=transform) \n",
    "\n",
    "train_loader = torch.utils.data.DataLoader(train_set, batch_size = batch_size, shuffle=True)\n",
    "test_loader = torch.utils.data.DataLoader(test_set, batch_size = batch_size)"
   ]
  },
  {
   "cell_type": "markdown",
   "id": "9c1d9cac-dfa6-4ada-916e-e2e55ecca91c",
   "metadata": {},
   "source": [
    "#### Train the network"
   ]
  },
  {
   "cell_type": "code",
   "execution_count": 7,
   "id": "be2cb0a1-84ee-46f4-ac10-8958150853a6",
   "metadata": {},
   "outputs": [],
   "source": [
    "device = torch.device('cuda' if torch.cuda.is_available() else 'cpu')\n",
    "net = Net().to(device)\n",
    "criterion = nn.CrossEntropyLoss()\n",
    "optimizer = torch.optim.Adam(net.parameters(), lr=0.001)"
   ]
  },
  {
   "cell_type": "code",
   "execution_count": 8,
   "id": "df8e8bef-b2a1-48a5-aed3-b352296e5619",
   "metadata": {},
   "outputs": [
    {
     "name": "stdout",
     "output_type": "stream",
     "text": [
      "Epoch 1, Loss: 0.7692882335707069\n",
      "Epoch 2, Loss: 0.28594356033402973\n",
      "Epoch 3, Loss: 0.2052527718396901\n",
      "Epoch 4, Loss: 0.16379449498762233\n",
      "Epoch 5, Loss: 0.1368710581671947\n",
      "Epoch 6, Loss: 0.11967958072607499\n",
      "Epoch 7, Loss: 0.10682450339241799\n",
      "Epoch 8, Loss: 0.09679026399969436\n",
      "Epoch 9, Loss: 0.08721008654266818\n",
      "Epoch 10, Loss: 0.07966850986351758\n",
      "Epoch 11, Loss: 0.07154701611445125\n",
      "Epoch 12, Loss: 0.06760601334555297\n",
      "Epoch 13, Loss: 0.0628379432639397\n",
      "Epoch 14, Loss: 0.05658639368188105\n",
      "Epoch 15, Loss: 0.055427308891217775\n",
      "Epoch 16, Loss: 0.05082164931337911\n",
      "Epoch 17, Loss: 0.04606946184585836\n",
      "Epoch 18, Loss: 0.04731012900104386\n",
      "Epoch 19, Loss: 0.04197236495839654\n",
      "Epoch 20, Loss: 0.038763726077613796\n"
     ]
    },
    {
     "data": {
      "image/png": "[encoded data removed]",
      "text/plain": [
       "<Figure size 432x288 with 1 Axes>"
      ]
     },
     "metadata": {
      "needs_background": "light"
     },
     "output_type": "display_data"
    }
   ],
   "source": [
    "train(net, criterion, optimizer, n_epochs, train_loader, path_model)"
   ]
  },
  {
   "cell_type": "markdown",
   "id": "24cc5e55-f162-41e8-9f60-23c5659036b2",
   "metadata": {},
   "source": [
    "#### Load the network and test it "
   ]
  },
  {
   "cell_type": "code",
   "execution_count": 9,
   "id": "ba30e3f1-a63c-4805-bef7-daeab73cbcc4",
   "metadata": {},
   "outputs": [
    {
     "data": {
      "text/plain": [
       "<All keys matched successfully>"
      ]
     },
     "execution_count": 9,
     "metadata": {},
     "output_type": "execute_result"
    }
   ],
   "source": [
    "net.load_state_dict(torch.load(path_model))"
   ]
  },
  {
   "cell_type": "code",
   "execution_count": 10,
   "id": "99e7f1ae-a76f-41fc-b55c-9d3e622b2314",
   "metadata": {},
   "outputs": [
    {
     "name": "stdout",
     "output_type": "stream",
     "text": [
      "Accuracy: 98.83%\n"
     ]
    }
   ],
   "source": [
    "correct, total = test(net, test_loader)\n",
    "print(f'Accuracy: {100 * correct / total}%')"
   ]
  },
  {
   "cell_type": "markdown",
   "id": "ccce946b-21d1-4531-b9c0-517cae0a4d5c",
   "metadata": {},
   "source": [
    "#### Embed the watermark"
   ]
  },
  {
   "cell_type": "code",
   "execution_count": 11,
   "id": "372355f5-389f-4f7a-9e3a-a2f6562082a7",
   "metadata": {},
   "outputs": [
    {
     "name": "stdout",
     "output_type": "stream",
     "text": [
      "[[-1.22826248e-02  2.22578272e-01 -2.82097347e-02  1.82337761e-02\n",
      "   2.18279436e-02  2.12815590e-02  4.06334162e-01  2.75069103e-02\n",
      "  -1.16208293e-01 -3.37877823e-03 -6.12595491e-02  1.46275703e-02\n",
      "   2.06396818e-01 -3.75034735e-02  2.17641622e-01 -5.00751883e-02\n",
      "  -6.22098427e-03  3.08642715e-01  2.92844195e-02  8.06107651e-03\n",
      "   3.74869294e-02  1.78792939e-01  6.20604958e-03  1.73073143e-01\n",
      "  -2.59192679e-02 -4.43363301e-02  1.93325505e-01  9.08696800e-02\n",
      "  -3.37675698e-02  2.70068169e-01  5.03325045e-01 -2.28305444e-01\n",
      "   9.32154506e-02  1.19785666e-02  1.22539945e-01 -1.28914580e-01\n",
      "   1.44302398e-01  4.66190726e-01 -1.62228569e-02  6.52094111e-02\n",
      "   8.94385278e-02  8.79799426e-02 -1.78574957e-02 -4.24883852e-04\n",
      "   2.19150454e-01  1.28719628e-01 -2.21665390e-02  4.26294915e-02\n",
      "  -1.32462231e-03 -4.69477847e-02  2.28537358e-02 -3.15248594e-02\n",
      "  -2.05211863e-01 -2.10617840e-01  4.31062765e-02 -1.19499065e-01\n",
      "   1.11429669e-01  1.69037469e-02 -2.18613625e-01 -1.15488730e-02\n",
      "   2.76648879e-01  1.13691956e-01  1.89038441e-02 -4.51070517e-02]\n",
      " [-2.98541695e-01  2.72322819e-03 -2.15744395e-02  2.45415489e-03\n",
      "   7.08502438e-03 -3.64592046e-01  1.75896108e-01  3.73364240e-01\n",
      "   1.63979739e-01 -8.87792930e-03  5.17300777e-02 -3.66481878e-02\n",
      "   2.38381326e-01  8.27244669e-02  6.77514896e-02  2.57591866e-02\n",
      "  -4.49422151e-02 -8.14299211e-02 -2.08849739e-02  2.08354846e-01\n",
      "   9.78390127e-02  3.70227247e-02 -4.45113331e-02  2.67362088e-01\n",
      "   1.73079560e-03  3.15116465e-01  2.36650556e-02  7.81239048e-02\n",
      "   5.07847033e-02  6.30220631e-04 -3.36603913e-03  6.08837828e-02\n",
      "  -4.77984101e-01  3.48916166e-02 -4.62062150e-01  1.85738131e-02\n",
      "   2.85461277e-01 -4.77564223e-02 -3.06276441e-01  1.26918936e-02\n",
      "  -5.47131673e-02 -6.95159147e-03  4.89917621e-02  2.09298301e-02\n",
      "   2.29181439e-01 -2.39628041e-03  2.21672449e-02  6.99194670e-02\n",
      "   1.21493365e-04  3.45393941e-02 -7.06067262e-03  2.75234189e-02\n",
      "   3.83950509e-02 -1.83610767e-01 -2.61081994e-01  4.13666144e-02\n",
      "  -5.96767701e-02 -6.63332001e-04  3.16898257e-01 -1.21383583e-02\n",
      "   1.37468815e-01  8.68191198e-02 -4.05943207e-03  3.27271849e-01]\n",
      " [ 9.42728445e-02  1.37048706e-01 -3.17480527e-02 -1.63691435e-02\n",
      "  -1.75654665e-02  2.99964845e-02  1.62679870e-02  1.00352382e-02\n",
      "   1.45639181e-01  2.07629856e-02  2.38078669e-01 -1.51800454e-01\n",
      "  -1.40419751e-02  1.90948263e-01 -6.84934780e-02  3.75113748e-02\n",
      "  -2.49668001e-03 -1.74344346e-01  1.75487716e-02  5.14831617e-02\n",
      "   1.49814531e-01  1.99672490e-01 -1.99822728e-02 -5.12696765e-02\n",
      "   8.48300010e-03  7.33109266e-02  1.86442286e-01  3.84767890e-01\n",
      "  -3.16614062e-02  1.56923905e-01  1.15769431e-01  2.79419214e-01\n",
      "  -2.67177429e-02  2.59991549e-02 -1.51331574e-02 -4.50662561e-02\n",
      "   2.53061354e-02  6.01072609e-02  2.68810634e-02  4.69393790e-01\n",
      "  -6.58351853e-02  3.83801222e-01  3.93474773e-02  2.49442309e-02\n",
      "  -3.11476905e-02 -1.60410088e-02  9.48082209e-02 -6.78618625e-02\n",
      "   9.23638325e-03  2.52804607e-01  3.00032683e-02  2.92313974e-02\n",
      "   4.04027045e-01  2.48481352e-02  1.40427619e-01 -1.92794632e-02\n",
      "   3.65901589e-01 -2.70153116e-02  9.08893794e-02  7.91350938e-03\n",
      "  -4.10068743e-02  4.03241590e-02  2.47203978e-03  6.55101836e-02]\n",
      " [ 1.38273910e-01  6.45424202e-02  4.68948819e-02 -7.02618668e-03\n",
      "  -9.77813080e-03  5.95414154e-02 -2.32169684e-02  8.52226987e-02\n",
      "  -6.83134794e-02  4.84773191e-03 -4.98915881e-01  1.13517836e-01\n",
      "  -2.86301505e-02 -3.76794696e-01 -1.38082236e-01  1.24200121e-01\n",
      "   2.50227544e-02 -1.62702367e-01  5.02893440e-02  9.04409736e-02\n",
      "  -2.83642858e-02  3.61168794e-02 -1.06325187e-02  2.84304302e-02\n",
      "   1.57065922e-03  1.02297783e-01  2.05490310e-02 -1.42379978e-03\n",
      "  -5.18770635e-01  1.02943301e-01  8.09997469e-02 -2.82201976e-01\n",
      "   1.03346132e-01 -1.86594129e-02  1.37093902e-01 -4.53946024e-01\n",
      "   7.06094131e-02  1.66915841e-02  1.49691373e-01  3.75146675e-03\n",
      "   8.25338438e-02 -2.56976727e-02 -3.57225299e-01 -4.44215583e-03\n",
      "   3.60785574e-02 -4.29039061e-01  2.01417878e-02  1.98722273e-01\n",
      "   3.39539768e-03  2.59793907e-01  2.27683038e-02 -1.98686495e-02\n",
      "  -2.16757268e-01 -2.72102565e-01  2.98618674e-01 -3.22153538e-01\n",
      "   5.32189384e-02 -3.66736054e-02 -8.53024721e-02  2.70508640e-02\n",
      "   5.64054884e-02 -1.45340353e-01  3.27341631e-02  7.32391179e-02]\n",
      " [-4.13714536e-03 -4.73240077e-01  1.05069660e-01  2.92854849e-03\n",
      "   2.64498573e-02  2.02185392e-01  1.09682150e-01  5.48944958e-02\n",
      "   1.80776089e-01  1.16404053e-02  4.22615223e-02  2.74687499e-01\n",
      "   2.30793849e-01  1.13649696e-01  7.05711395e-02 -1.53431958e-02\n",
      "   1.09136328e-01  1.16452850e-01 -1.85069069e-02 -1.29486313e-02\n",
      "  -3.96493286e-01 -5.28880656e-01  1.95495524e-02  1.55913681e-01\n",
      "   9.93319787e-03  4.53911833e-02 -5.91399729e-01 -1.47327960e-01\n",
      "   1.35367706e-01 -4.44449127e-01 -1.75443515e-02 -1.61390573e-01\n",
      "   6.22983277e-02 -1.62699036e-02  3.72920535e-03  1.34332210e-01\n",
      "  -2.02956364e-01 -2.37614214e-02  1.33134937e-03  1.43662542e-01\n",
      "   1.42139643e-01  2.21387848e-01 -3.22942615e-01  1.38528394e-02\n",
      "   2.14626521e-01  1.36025906e-01  8.76063704e-02  2.48135999e-02\n",
      "   1.26050720e-02  4.05583158e-02 -2.48993766e-02 -1.96747668e-03\n",
      "  -1.81772366e-01  1.44014314e-01  8.79041925e-02 -2.82277465e-01\n",
      "  -4.58048195e-01  9.54957008e-02 -3.62880044e-02 -9.38717742e-03\n",
      "   6.39051944e-02  2.37416267e-01  2.67564394e-02 -6.02066331e-03]\n",
      " [ 4.47060853e-01  3.95773947e-02  5.54159991e-02  4.25227219e-03\n",
      "   2.03090813e-03  3.12174708e-01 -1.84688270e-01 -3.61430526e-01\n",
      "  -7.74393380e-02 -6.08967792e-04  8.96066334e-03  7.51039758e-02\n",
      "  -4.12071466e-01  2.34734304e-02 -1.39395311e-01 -3.39444689e-02\n",
      "   4.97351810e-02  2.88227573e-02 -1.58321392e-02 -3.73221934e-01\n",
      "  -9.61088613e-02  7.84193352e-03  1.53835723e-02 -3.48057121e-01\n",
      "   2.79424060e-02 -3.76122534e-01  3.79026681e-02  9.10758134e-03\n",
      "   9.24628675e-02  8.48462246e-03  5.47767198e-03 -7.47628435e-02\n",
      "   3.69524986e-01 -1.03590656e-02  2.38712251e-01  5.95129654e-02\n",
      "  -9.82933417e-02  1.82278696e-02  4.28645462e-01  2.35748775e-02\n",
      "   7.65704666e-04  3.72954942e-02  4.60767411e-02 -2.23976001e-02\n",
      "  -3.63875687e-01  1.55931056e-01  3.14516500e-02  1.40105300e-02\n",
      "  -1.83959317e-03  7.66654760e-02  1.82753690e-02  2.18503247e-03\n",
      "  -2.06453055e-01  1.55602708e-01  2.85934746e-01  8.96411240e-02\n",
      "   2.54511479e-02 -1.34352297e-02 -3.65236014e-01  1.14360070e-02\n",
      "  -2.86852062e-01  3.89636196e-02  7.63890985e-03 -3.68122399e-01]\n",
      " [ 2.21385211e-02  1.90006811e-02  3.40211600e-01  3.58617352e-03\n",
      "   2.66366582e-02 -2.72907391e-02 -1.25454932e-01  7.73039006e-04\n",
      "   1.58865198e-01 -1.40651511e-02  7.58453785e-03  7.56200105e-02\n",
      "  -1.79985519e-02 -2.79162508e-02 -7.43440837e-02  2.28616357e-01\n",
      "   3.93348813e-01 -5.16679548e-02  4.54519019e-02  1.13676220e-01\n",
      "   1.48627773e-01  2.56804638e-02  2.96280067e-02  3.12780915e-03\n",
      "   1.18805412e-02  1.39217853e-04  2.49972083e-02 -6.12510443e-02\n",
      "   6.14553550e-03  1.97259765e-02  1.85596552e-02  7.45062083e-02\n",
      "  -8.91885720e-03 -1.65394358e-02  1.17879510e-01  1.17457254e-04\n",
      "  -1.31061792e-01  1.84621420e-02 -1.13593312e-02 -5.22150137e-02\n",
      "   2.93097466e-01 -4.31886353e-02  2.19614320e-02 -2.24510897e-02\n",
      "  -3.08011845e-02 -1.25979725e-02  3.59290570e-01  3.69495779e-01\n",
      "   1.11494411e-03  2.76326519e-02  1.84087865e-02  3.69660668e-02\n",
      "   9.75752994e-02  1.63042635e-01 -1.76419299e-02  2.65764594e-02\n",
      "   9.98586640e-02  3.95295709e-01  2.42930681e-01  6.42472180e-03\n",
      "   8.80891904e-02 -1.00237340e-01  9.54040419e-03  3.89679447e-02]\n",
      " [ 3.35318223e-02  1.57423586e-01  3.19750682e-02  5.14187617e-03\n",
      "   1.39455795e-02 -2.46531144e-02 -4.98214960e-02  8.37133378e-02\n",
      "   6.49523921e-03 -1.13107227e-02  1.81079045e-01 -6.82209656e-02\n",
      "  -8.07446614e-02  1.68066412e-01  2.46966258e-01 -3.24629322e-02\n",
      "   3.79959308e-02  1.62751809e-01  2.35737134e-02 -2.06784829e-01\n",
      "   2.23428220e-01  1.33138165e-01  2.03792918e-02  8.38469192e-02\n",
      "  -6.97582727e-04 -1.59698784e-01  8.35347846e-02 -3.38622510e-01\n",
      "   3.50300997e-01  9.48246345e-02 -1.55128725e-02 -8.17344934e-02\n",
      "   5.97537793e-02  1.91089918e-03  8.71956944e-02  3.62937391e-01\n",
      "   5.98341785e-02 -2.75802054e-03  3.18305530e-02 -2.51649052e-01\n",
      "  -4.85790297e-02 -1.80054352e-01  1.85036957e-01  2.87103206e-02\n",
      "  -7.57471621e-02  2.92427987e-01 -1.98563654e-03 -8.30781367e-03\n",
      "  -1.15185825e-03 -3.12723964e-01  2.22410746e-02  1.57563947e-03\n",
      "  -1.32448047e-01  1.11114919e-01 -2.22582713e-01  2.90630460e-01\n",
      "  -2.85576899e-02  1.24486119e-01 -1.74542159e-01  9.65881255e-03\n",
      "   1.28685534e-01  2.16386557e-01  8.64244532e-03 -9.76985693e-02]]\n"
     ]
    }
   ],
   "source": [
    "# Now, we want to add a watermark into the fc2 weights\n",
    "with torch.no_grad():\n",
    "    for name, param in net.named_parameters():\n",
    "        if name == 'fc2.weight':\n",
    "            param_data = param.cpu().numpy()\n",
    "            print(param_data)"
   ]
  },
  {
   "cell_type": "code",
   "execution_count": 12,
   "id": "4b658fbb-d311-44e0-acef-0c35a0d3466a",
   "metadata": {},
   "outputs": [],
   "source": [
    "watermark = \"AI4SS\"\n",
    "add_watermark_lsb(net, watermark)"
   ]
  },
  {
   "cell_type": "code",
   "execution_count": 13,
   "id": "9a82fdeb-e81b-47ff-93d4-3e565164a9b0",
   "metadata": {},
   "outputs": [
    {
     "name": "stdout",
     "output_type": "stream",
     "text": [
      "[[-1.22826248e-02  8.90313089e-01 -2.82097347e-02  1.82337761e-02\n",
      "   2.18279436e-02  2.12815590e-02  4.06334162e-01  1.10027641e-01\n",
      "  -2.90520731e-02 -3.37877823e-03 -1.53148873e-02  1.46275703e-02\n",
      "   8.25587273e-01 -9.37586837e-03  2.17641622e-01 -5.00751883e-02\n",
      "  -1.55524607e-03  3.08642715e-01  1.17137678e-01  3.22443061e-02\n",
      "   9.37173236e-03  7.15171754e-01  1.55151240e-03  1.73073143e-01\n",
      "  -2.59192679e-02 -4.43363301e-02  1.93325505e-01  9.08696800e-02\n",
      "  -8.44189245e-03  2.70068169e-01  5.03325045e-01 -9.13221776e-01\n",
      "   2.33038627e-02  4.79142666e-02  3.06349862e-02 -5.15658319e-01\n",
      "   1.44302398e-01  4.66190726e-01 -6.48914278e-02  6.52094111e-02\n",
      "   8.94385278e-02  8.79799426e-02 -1.78574957e-02 -4.24883852e-04\n",
      "   2.19150454e-01  1.28719628e-01 -2.21665390e-02  4.26294915e-02\n",
      "  -1.32462231e-03 -4.69477847e-02  2.28537358e-02 -3.15248594e-02\n",
      "  -2.05211863e-01 -2.10617840e-01  4.31062765e-02 -1.19499065e-01\n",
      "   1.11429669e-01  1.69037469e-02 -2.18613625e-01 -1.15488730e-02\n",
      "   2.76648879e-01  1.13691956e-01  1.89038441e-02 -4.51070517e-02]\n",
      " [-2.98541695e-01  2.72322819e-03 -2.15744395e-02  2.45415489e-03\n",
      "   7.08502438e-03 -3.64592046e-01  1.75896108e-01  3.73364240e-01\n",
      "   1.63979739e-01 -8.87792930e-03  5.17300777e-02 -3.66481878e-02\n",
      "   2.38381326e-01  8.27244669e-02  6.77514896e-02  2.57591866e-02\n",
      "  -4.49422151e-02 -8.14299211e-02 -2.08849739e-02  2.08354846e-01\n",
      "   9.78390127e-02  3.70227247e-02 -4.45113331e-02  2.67362088e-01\n",
      "   1.73079560e-03  3.15116465e-01  2.36650556e-02  7.81239048e-02\n",
      "   5.07847033e-02  6.30220631e-04 -3.36603913e-03  6.08837828e-02\n",
      "  -4.77984101e-01  3.48916166e-02 -4.62062150e-01  1.85738131e-02\n",
      "   2.85461277e-01 -4.77564223e-02 -3.06276441e-01  1.26918936e-02\n",
      "  -5.47131673e-02 -6.95159147e-03  4.89917621e-02  2.09298301e-02\n",
      "   2.29181439e-01 -2.39628041e-03  2.21672449e-02  6.99194670e-02\n",
      "   1.21493365e-04  3.45393941e-02 -7.06067262e-03  2.75234189e-02\n",
      "   3.83950509e-02 -1.83610767e-01 -2.61081994e-01  4.13666144e-02\n",
      "  -5.96767701e-02 -6.63332001e-04  3.16898257e-01 -1.21383583e-02\n",
      "   1.37468815e-01  8.68191198e-02 -4.05943207e-03  3.27271849e-01]\n",
      " [ 9.42728445e-02  1.37048706e-01 -3.17480527e-02 -1.63691435e-02\n",
      "  -1.75654665e-02  2.99964845e-02  1.62679870e-02  1.00352382e-02\n",
      "   1.45639181e-01  2.07629856e-02  2.38078669e-01 -1.51800454e-01\n",
      "  -1.40419751e-02  1.90948263e-01 -6.84934780e-02  3.75113748e-02\n",
      "  -2.49668001e-03 -1.74344346e-01  1.75487716e-02  5.14831617e-02\n",
      "   1.49814531e-01  1.99672490e-01 -1.99822728e-02 -5.12696765e-02\n",
      "   8.48300010e-03  7.33109266e-02  1.86442286e-01  3.84767890e-01\n",
      "  -3.16614062e-02  1.56923905e-01  1.15769431e-01  2.79419214e-01\n",
      "  -2.67177429e-02  2.59991549e-02 -1.51331574e-02 -4.50662561e-02\n",
      "   2.53061354e-02  6.01072609e-02  2.68810634e-02  4.69393790e-01\n",
      "  -6.58351853e-02  3.83801222e-01  3.93474773e-02  2.49442309e-02\n",
      "  -3.11476905e-02 -1.60410088e-02  9.48082209e-02 -6.78618625e-02\n",
      "   9.23638325e-03  2.52804607e-01  3.00032683e-02  2.92313974e-02\n",
      "   4.04027045e-01  2.48481352e-02  1.40427619e-01 -1.92794632e-02\n",
      "   3.65901589e-01 -2.70153116e-02  9.08893794e-02  7.91350938e-03\n",
      "  -4.10068743e-02  4.03241590e-02  2.47203978e-03  6.55101836e-02]\n",
      " [ 1.38273910e-01  6.45424202e-02  4.68948819e-02 -7.02618668e-03\n",
      "  -9.77813080e-03  5.95414154e-02 -2.32169684e-02  8.52226987e-02\n",
      "  -6.83134794e-02  4.84773191e-03 -4.98915881e-01  1.13517836e-01\n",
      "  -2.86301505e-02 -3.76794696e-01 -1.38082236e-01  1.24200121e-01\n",
      "   2.50227544e-02 -1.62702367e-01  5.02893440e-02  9.04409736e-02\n",
      "  -2.83642858e-02  3.61168794e-02 -1.06325187e-02  2.84304302e-02\n",
      "   1.57065922e-03  1.02297783e-01  2.05490310e-02 -1.42379978e-03\n",
      "  -5.18770635e-01  1.02943301e-01  8.09997469e-02 -2.82201976e-01\n",
      "   1.03346132e-01 -1.86594129e-02  1.37093902e-01 -4.53946024e-01\n",
      "   7.06094131e-02  1.66915841e-02  1.49691373e-01  3.75146675e-03\n",
      "   8.25338438e-02 -2.56976727e-02 -3.57225299e-01 -4.44215583e-03\n",
      "   3.60785574e-02 -4.29039061e-01  2.01417878e-02  1.98722273e-01\n",
      "   3.39539768e-03  2.59793907e-01  2.27683038e-02 -1.98686495e-02\n",
      "  -2.16757268e-01 -2.72102565e-01  2.98618674e-01 -3.22153538e-01\n",
      "   5.32189384e-02 -3.66736054e-02 -8.53024721e-02  2.70508640e-02\n",
      "   5.64054884e-02 -1.45340353e-01  3.27341631e-02  7.32391179e-02]\n",
      " [-4.13714536e-03 -4.73240077e-01  1.05069660e-01  2.92854849e-03\n",
      "   2.64498573e-02  2.02185392e-01  1.09682150e-01  5.48944958e-02\n",
      "   1.80776089e-01  1.16404053e-02  4.22615223e-02  2.74687499e-01\n",
      "   2.30793849e-01  1.13649696e-01  7.05711395e-02 -1.53431958e-02\n",
      "   1.09136328e-01  1.16452850e-01 -1.85069069e-02 -1.29486313e-02\n",
      "  -3.96493286e-01 -5.28880656e-01  1.95495524e-02  1.55913681e-01\n",
      "   9.93319787e-03  4.53911833e-02 -5.91399729e-01 -1.47327960e-01\n",
      "   1.35367706e-01 -4.44449127e-01 -1.75443515e-02 -1.61390573e-01\n",
      "   6.22983277e-02 -1.62699036e-02  3.72920535e-03  1.34332210e-01\n",
      "  -2.02956364e-01 -2.37614214e-02  1.33134937e-03  1.43662542e-01\n",
      "   1.42139643e-01  2.21387848e-01 -3.22942615e-01  1.38528394e-02\n",
      "   2.14626521e-01  1.36025906e-01  8.76063704e-02  2.48135999e-02\n",
      "   1.26050720e-02  4.05583158e-02 -2.48993766e-02 -1.96747668e-03\n",
      "  -1.81772366e-01  1.44014314e-01  8.79041925e-02 -2.82277465e-01\n",
      "  -4.58048195e-01  9.54957008e-02 -3.62880044e-02 -9.38717742e-03\n",
      "   6.39051944e-02  2.37416267e-01  2.67564394e-02 -6.02066331e-03]\n",
      " [ 4.47060853e-01  3.95773947e-02  5.54159991e-02  4.25227219e-03\n",
      "   2.03090813e-03  3.12174708e-01 -1.84688270e-01 -3.61430526e-01\n",
      "  -7.74393380e-02 -6.08967792e-04  8.96066334e-03  7.51039758e-02\n",
      "  -4.12071466e-01  2.34734304e-02 -1.39395311e-01 -3.39444689e-02\n",
      "   4.97351810e-02  2.88227573e-02 -1.58321392e-02 -3.73221934e-01\n",
      "  -9.61088613e-02  7.84193352e-03  1.53835723e-02 -3.48057121e-01\n",
      "   2.79424060e-02 -3.76122534e-01  3.79026681e-02  9.10758134e-03\n",
      "   9.24628675e-02  8.48462246e-03  5.47767198e-03 -7.47628435e-02\n",
      "   3.69524986e-01 -1.03590656e-02  2.38712251e-01  5.95129654e-02\n",
      "  -9.82933417e-02  1.82278696e-02  4.28645462e-01  2.35748775e-02\n",
      "   7.65704666e-04  3.72954942e-02  4.60767411e-02 -2.23976001e-02\n",
      "  -3.63875687e-01  1.55931056e-01  3.14516500e-02  1.40105300e-02\n",
      "  -1.83959317e-03  7.66654760e-02  1.82753690e-02  2.18503247e-03\n",
      "  -2.06453055e-01  1.55602708e-01  2.85934746e-01  8.96411240e-02\n",
      "   2.54511479e-02 -1.34352297e-02 -3.65236014e-01  1.14360070e-02\n",
      "  -2.86852062e-01  3.89636196e-02  7.63890985e-03 -3.68122399e-01]\n",
      " [ 2.21385211e-02  1.90006811e-02  3.40211600e-01  3.58617352e-03\n",
      "   2.66366582e-02 -2.72907391e-02 -1.25454932e-01  7.73039006e-04\n",
      "   1.58865198e-01 -1.40651511e-02  7.58453785e-03  7.56200105e-02\n",
      "  -1.79985519e-02 -2.79162508e-02 -7.43440837e-02  2.28616357e-01\n",
      "   3.93348813e-01 -5.16679548e-02  4.54519019e-02  1.13676220e-01\n",
      "   1.48627773e-01  2.56804638e-02  2.96280067e-02  3.12780915e-03\n",
      "   1.18805412e-02  1.39217853e-04  2.49972083e-02 -6.12510443e-02\n",
      "   6.14553550e-03  1.97259765e-02  1.85596552e-02  7.45062083e-02\n",
      "  -8.91885720e-03 -1.65394358e-02  1.17879510e-01  1.17457254e-04\n",
      "  -1.31061792e-01  1.84621420e-02 -1.13593312e-02 -5.22150137e-02\n",
      "   2.93097466e-01 -4.31886353e-02  2.19614320e-02 -2.24510897e-02\n",
      "  -3.08011845e-02 -1.25979725e-02  3.59290570e-01  3.69495779e-01\n",
      "   1.11494411e-03  2.76326519e-02  1.84087865e-02  3.69660668e-02\n",
      "   9.75752994e-02  1.63042635e-01 -1.76419299e-02  2.65764594e-02\n",
      "   9.98586640e-02  3.95295709e-01  2.42930681e-01  6.42472180e-03\n",
      "   8.80891904e-02 -1.00237340e-01  9.54040419e-03  3.89679447e-02]\n",
      " [ 3.35318223e-02  1.57423586e-01  3.19750682e-02  5.14187617e-03\n",
      "   1.39455795e-02 -2.46531144e-02 -4.98214960e-02  8.37133378e-02\n",
      "   6.49523921e-03 -1.13107227e-02  1.81079045e-01 -6.82209656e-02\n",
      "  -8.07446614e-02  1.68066412e-01  2.46966258e-01 -3.24629322e-02\n",
      "   3.79959308e-02  1.62751809e-01  2.35737134e-02 -2.06784829e-01\n",
      "   2.23428220e-01  1.33138165e-01  2.03792918e-02  8.38469192e-02\n",
      "  -6.97582727e-04 -1.59698784e-01  8.35347846e-02 -3.38622510e-01\n",
      "   3.50300997e-01  9.48246345e-02 -1.55128725e-02 -8.17344934e-02\n",
      "   5.97537793e-02  1.91089918e-03  8.71956944e-02  3.62937391e-01\n",
      "   5.98341785e-02 -2.75802054e-03  3.18305530e-02 -2.51649052e-01\n",
      "  -4.85790297e-02 -1.80054352e-01  1.85036957e-01  2.87103206e-02\n",
      "  -7.57471621e-02  2.92427987e-01 -1.98563654e-03 -8.30781367e-03\n",
      "  -1.15185825e-03 -3.12723964e-01  2.22410746e-02  1.57563947e-03\n",
      "  -1.32448047e-01  1.11114919e-01 -2.22582713e-01  2.90630460e-01\n",
      "  -2.85576899e-02  1.24486119e-01 -1.74542159e-01  9.65881255e-03\n",
      "   1.28685534e-01  2.16386557e-01  8.64244532e-03 -9.76985693e-02]]\n"
     ]
    }
   ],
   "source": [
    "# Check\n",
    "with torch.no_grad():\n",
    "    for name, param in net.named_parameters():\n",
    "        if name == 'fc2.weight':\n",
    "            param_data = param.cpu().numpy()\n",
    "            print(param_data)"
   ]
  },
  {
   "cell_type": "code",
   "execution_count": 14,
   "id": "67469a4c-fa39-474f-8f31-c0a3b483a5c0",
   "metadata": {},
   "outputs": [
    {
     "name": "stdout",
     "output_type": "stream",
     "text": [
      "Accuracy: 98.75%\n"
     ]
    }
   ],
   "source": [
    "correct, total = test(net, test_loader)\n",
    "print(f'Accuracy: {100 * correct / total}%')"
   ]
  },
  {
   "cell_type": "code",
   "execution_count": 15,
   "id": "caf4d641-78fe-4241-8b02-a0e3bce54886",
   "metadata": {},
   "outputs": [
    {
     "name": "stdout",
     "output_type": "stream",
     "text": [
      "Extracted watermark: AI4SS\n"
     ]
    }
   ],
   "source": [
    "extracted_watermark = extract_watermark(net, len(watermark))\n",
    "print(f'Extracted watermark: {extracted_watermark}')"
   ]
  },
  {
   "cell_type": "code",
   "execution_count": null,
   "id": "5398fe9f-df51-4e45-80ba-1dc1570317e7",
   "metadata": {},
   "outputs": [],
   "source": []
  }
 ],
 "metadata": {
  "kernelspec": {
   "display_name": "Python 3 (ipykernel)",
   "language": "python",
   "name": "python3"
  },
  "language_info": {
   "codemirror_mode": {
    "name": "ipython",
    "version": 3
   },
   "file_extension": ".py",
   "mimetype": "text/x-python",
   "name": "python",
   "nbconvert_exporter": "python",
   "pygments_lexer": "ipython3",
   "version": "3.10.0"
  }
 },
 "nbformat": 4,
 "nbformat_minor": 5
}
