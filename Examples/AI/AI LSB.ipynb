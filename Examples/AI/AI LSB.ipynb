{
 "cells": [
  {
   "cell_type": "markdown",
   "id": "21febb75-2052-46d0-9786-ae8f5495c68c",
   "metadata": {},
   "source": [
    "#### A Jupyter Notebook for training a classification deep network used for classifying handwritten digits, i.e., MNIST dataset. After the training of the network, we will embed a watermark within some network weights and use it in inference mode"
   ]
  },
  {
   "cell_type": "code",
   "execution_count": 1,
   "id": "4d473311-7688-4637-aeb5-b73f6c2685c5",
   "metadata": {},
   "outputs": [],
   "source": [
    "import numpy as np\n",
    "import matplotlib.pyplot as plt\n",
    "\n",
    "import random\n",
    "\n",
    "import torch\n",
    "import torch.nn as nn\n",
    "\n",
    "import torchvision\n",
    "import torchvision.datasets as datasets\n",
    "import torchvision.transforms as transforms\n",
    "\n",
    "seed = 101\n",
    "\n",
    "np.random.seed(seed)\n",
    "random.seed(seed)\n",
    "torch.manual_seed(seed)\n",
    "torch.cuda.manual_seed(seed)\n",
    "torch.cuda.manual_seed_all(seed)\n",
    "torch.use_deterministic_algorithms = True\n",
    "torch.backends.cudnn.benchmark = False"
   ]
  },
  {
   "cell_type": "markdown",
   "id": "aac50d5f-ba1b-47a1-8b8e-5dc2b2602c0a",
   "metadata": {},
   "source": [
    "#### Utility methods"
   ]
  },
  {
   "cell_type": "code",
   "execution_count": 2,
   "id": "b3affb5a-7148-47f8-88c3-81def7ed88ef",
   "metadata": {},
   "outputs": [],
   "source": [
    "def train(net, criterion, optimizer, n_epochs, train_loader, path_model='net.pt'):\n",
    "    losses = []\n",
    "\n",
    "    for epoch in range(n_epochs):\n",
    "        net.train()\n",
    "\n",
    "        running_loss = 0.0\n",
    "        for i, data in enumerate(train_loader, 0):\n",
    "            x, y = data\n",
    "            x, y = x.to(device), y.to(device)\n",
    "\n",
    "            optimizer.zero_grad()\n",
    "            y_pred = net(x)\n",
    "            loss = criterion(y_pred, y)\n",
    "            loss.backward()\n",
    "            optimizer.step()\n",
    "\n",
    "            running_loss += loss.item()\n",
    "\n",
    "        losses.append(running_loss / len(train_loader))\n",
    "        print(f'Epoch {epoch + 1}, Loss: {running_loss / len(train_loader)}')\n",
    "\n",
    "    torch.save(net.state_dict(), path_model)\n",
    "    \n",
    "    plt.plot(range(0, len(losses)), losses)\n",
    "    plt.title('Training losses')\n",
    "    plt.show()\n",
    "    \n",
    "def test(net, test_loader):\n",
    "    net.eval()\n",
    "    correct = 0\n",
    "    total = 0\n",
    "    with torch.no_grad():\n",
    "        for data in test_loader:\n",
    "            x, y = data\n",
    "            x, y = x.to(device), y.to(device)\n",
    "            y_preds = net(x)\n",
    "            _, predicted = torch.max(y_preds.data, 1)\n",
    "            total += y.size(0)\n",
    "            correct += (predicted == y).sum().item()\n",
    "            \n",
    "    return correct, total"
   ]
  },
  {
   "cell_type": "code",
   "execution_count": 3,
   "id": "e0481867-b515-4db4-a027-71465d181d47",
   "metadata": {},
   "outputs": [],
   "source": [
    "def float_to_bin(x):\n",
    "    # Convert float to binary representation\n",
    "    return ''.join(f'{byte:08b}' for byte in np.float32(x).tobytes())\n",
    "\n",
    "def bin_to_float(b):\n",
    "    # Convert binary representation back to float\n",
    "    int_bits = int(b, 2)\n",
    "    return np.frombuffer(int_bits.to_bytes(4, byteorder='big'), dtype=np.float32)[0]\n",
    "\n",
    "def add_watermark_lsb(net, watermark):\n",
    "    watermark_bits = ''.join(f'{ord(c):08b}' for c in watermark) # Convert watermark to binary\n",
    "    watermark_index = 0\n",
    "\n",
    "    with torch.no_grad():\n",
    "        for name, param in net.named_parameters():\n",
    "            if name == 'fc2.weight':\n",
    "                param_data = param.cpu().numpy()\n",
    "                for i in np.ndindex(param_data.shape):\n",
    "                    if watermark_index < len(watermark_bits):\n",
    "                        original_bin = float_to_bin(param_data[i])\n",
    "                        new_bin = original_bin[:-1] + watermark_bits[watermark_index]\n",
    "                        param_data[i] = bin_to_float(new_bin)\n",
    "                        watermark_index += 1\n",
    "                param.copy_(torch.tensor(param_data, device=param.device))\n",
    "\n",
    "                \n",
    "def extract_watermark(net, watermark_length):\n",
    "    extracted_bits = ''\n",
    "    \n",
    "    with torch.no_grad():\n",
    "        for name, param in net.named_parameters():\n",
    "            if name == 'fc2.weight':\n",
    "                param_data = param.cpu().numpy()\n",
    "                for i in np.ndindex(param_data.shape):\n",
    "                    original_bin = float_to_bin(param_data[i])\n",
    "                    extracted_bits += original_bin[-1]\n",
    "    watermark_chars = [chr(int(extracted_bits[i:i+8], 2)) for i in range(0, len(extracted_bits), 8)]\n",
    "    return ''.join(watermark_chars[:watermark_length])"
   ]
  },
  {
   "cell_type": "markdown",
   "id": "f8a134b3-b2b8-40c4-b103-21a828d5ce2c",
   "metadata": {},
   "source": [
    "#### Define the neural network"
   ]
  },
  {
   "cell_type": "code",
   "execution_count": 4,
   "id": "8271300e-c323-4fd0-ba0d-ae03d0c3a981",
   "metadata": {},
   "outputs": [],
   "source": [
    "class Net(nn.Module):\n",
    "    def __init__(self, n_channels=1, h_size=28, w_size=28, last_size=64, hidden_dim=8, n_classes=10):\n",
    "        super(Net, self).__init__()\n",
    "        self.n_channels = n_channels\n",
    "        self.h_size = h_size\n",
    "        self.w_size = w_size\n",
    "        self.last_size = last_size\n",
    "        self.n_classes = n_classes\n",
    "        self.hidden_dim = hidden_dim\n",
    "        \n",
    "        self.embedder = nn.Sequential(\n",
    "            nn.Conv2d(self.n_channels, self.last_size//2, kernel_size=3, stride=2),\n",
    "            nn.ReLU(),\n",
    "            nn.Conv2d(self.last_size//2, self.last_size, kernel_size=3, stride=2),\n",
    "            nn.ReLU(),\n",
    "            nn.Conv2d(self.last_size, self.last_size, kernel_size=3, stride=2),\n",
    "            nn.ReLU()\n",
    "        )\n",
    "        \n",
    "        \n",
    "        out = self.embedder(torch.rand(1, self.n_channels, self.h_size, self.w_size))\n",
    "        self.size = out.shape[2]\n",
    "\n",
    "        self.fc1 = nn.Linear(self.last_size * self.size * self.size, self.last_size)\n",
    "        self.fc2 = nn.Linear(self.last_size, self.hidden_dim)\n",
    "        self.out = nn.Linear(self.hidden_dim, self.n_classes)\n",
    "        \n",
    "        self.relu = nn.ReLU()\n",
    "        \n",
    "        self.init_weights()\n",
    "        \n",
    "    def init_weights(self):\n",
    "        for m in self.modules():\n",
    "            if isinstance(m, nn.Conv2d):\n",
    "                nn.init.kaiming_normal_(\n",
    "                    m.weight, mode='fan_out', nonlinearity='relu')\n",
    "                if m.bias is not None:\n",
    "                    nn.init.constant_(m.bias, 0)\n",
    "            elif isinstance(m, nn.Linear):\n",
    "                nn.init.normal_(m.weight, 0, 0.01)\n",
    "                nn.init.constant_(m.bias, 0)\n",
    "        \n",
    "    def forward(self, x):\n",
    "        x1 = self.embedder(x)\n",
    "        x1 = x1.view(x1.shape[0], -1)\n",
    "        \n",
    "        x2 = self.fc1(x1)\n",
    "        x2 = self.fc2(self.relu(x2))\n",
    "        y = self.out(self.relu(x2))\n",
    "        \n",
    "        return y"
   ]
  },
  {
   "cell_type": "markdown",
   "id": "15addabd-4809-499a-ae35-9c157ccc1f55",
   "metadata": {},
   "source": [
    "#### Load the data"
   ]
  },
  {
   "cell_type": "code",
   "execution_count": 5,
   "id": "a2010d54-678b-4e04-aa59-8c9ba3fb18b2",
   "metadata": {},
   "outputs": [],
   "source": [
    "batch_size = 64\n",
    "n_epochs = 20\n",
    "\n",
    "path_model='net.pt'"
   ]
  },
  {
   "cell_type": "code",
   "execution_count": 6,
   "id": "86f027b2-948e-492e-bbc9-4550cfe9307c",
   "metadata": {},
   "outputs": [],
   "source": [
    "transform = transforms.Compose([transforms.ToTensor()])\n",
    "\n",
    "train_set = datasets.MNIST(root='./data', train=True, download=True, transform=transform) \n",
    "test_set = datasets.MNIST(root='./data', train=False, download=True, transform=transform) \n",
    "\n",
    "train_loader = torch.utils.data.DataLoader(train_set, batch_size = batch_size, shuffle=True)\n",
    "test_loader = torch.utils.data.DataLoader(test_set, batch_size = batch_size)"
   ]
  },
  {
   "cell_type": "markdown",
   "id": "9c1d9cac-dfa6-4ada-916e-e2e55ecca91c",
   "metadata": {},
   "source": [
    "#### Train the network"
   ]
  },
  {
   "cell_type": "code",
   "execution_count": 7,
   "id": "be2cb0a1-84ee-46f4-ac10-8958150853a6",
   "metadata": {},
   "outputs": [],
   "source": [
    "device = torch.device('cuda' if torch.cuda.is_available() else 'cpu')\n",
    "net = Net().to(device)\n",
    "criterion = nn.CrossEntropyLoss()\n",
    "optimizer = torch.optim.Adam(net.parameters(), lr=0.001)"
   ]
  },
  {
   "cell_type": "code",
   "execution_count": 8,
   "id": "df8e8bef-b2a1-48a5-aed3-b352296e5619",
   "metadata": {},
   "outputs": [
    {
     "name": "stdout",
     "output_type": "stream",
     "text": [
      "Epoch 1, Loss: 0.711593222182824\n",
      "Epoch 2, Loss: 0.21592943611215237\n",
      "Epoch 3, Loss: 0.12996958521431062\n",
      "Epoch 4, Loss: 0.09854032191386355\n",
      "Epoch 5, Loss: 0.07737914070949706\n",
      "Epoch 6, Loss: 0.06300882291746761\n",
      "Epoch 7, Loss: 0.0550968981990124\n",
      "Epoch 8, Loss: 0.044884287308827577\n",
      "Epoch 9, Loss: 0.03962349816855204\n",
      "Epoch 10, Loss: 0.033374945941620195\n",
      "Epoch 11, Loss: 0.029981619993336192\n",
      "Epoch 12, Loss: 0.024924228950857254\n",
      "Epoch 13, Loss: 0.023285554173950868\n",
      "Epoch 14, Loss: 0.020647897175811072\n",
      "Epoch 15, Loss: 0.018344306821322955\n",
      "Epoch 16, Loss: 0.01601591983727286\n",
      "Epoch 17, Loss: 0.01396803283611833\n",
      "Epoch 18, Loss: 0.01342127939048734\n",
      "Epoch 19, Loss: 0.013960768050938743\n",
      "Epoch 20, Loss: 0.011433957718600335\n"
     ]
    },
    {
     "data": {
      "image/png": "[encoded data removed]",
      "text/plain": [
       "<Figure size 432x288 with 1 Axes>"
      ]
     },
     "metadata": {
      "needs_background": "light"
     },
     "output_type": "display_data"
    }
   ],
   "source": [
    "train(net, criterion, optimizer, n_epochs, train_loader, path_model)"
   ]
  },
  {
   "cell_type": "markdown",
   "id": "24cc5e55-f162-41e8-9f60-23c5659036b2",
   "metadata": {},
   "source": [
    "#### Load the network and test it "
   ]
  },
  {
   "cell_type": "code",
   "execution_count": 9,
   "id": "ba30e3f1-a63c-4805-bef7-daeab73cbcc4",
   "metadata": {},
   "outputs": [
    {
     "data": {
      "text/plain": [
       "<All keys matched successfully>"
      ]
     },
     "execution_count": 9,
     "metadata": {},
     "output_type": "execute_result"
    }
   ],
   "source": [
    "net.load_state_dict(torch.load(path_model))"
   ]
  },
  {
   "cell_type": "code",
   "execution_count": 10,
   "id": "99e7f1ae-a76f-41fc-b55c-9d3e622b2314",
   "metadata": {},
   "outputs": [
    {
     "name": "stdout",
     "output_type": "stream",
     "text": [
      "Accuracy: 98.58%\n"
     ]
    }
   ],
   "source": [
    "correct, total = test(net, test_loader)\n",
    "print(f'Accuracy: {100 * correct / total}%')"
   ]
  },
  {
   "cell_type": "markdown",
   "id": "ccce946b-21d1-4531-b9c0-517cae0a4d5c",
   "metadata": {},
   "source": [
    "#### Embed the watermark"
   ]
  },
  {
   "cell_type": "code",
   "execution_count": 11,
   "id": "372355f5-389f-4f7a-9e3a-a2f6562082a7",
   "metadata": {},
   "outputs": [
    {
     "name": "stdout",
     "output_type": "stream",
     "text": [
      "[[ 3.52380052e-02  5.62173128e-01 -1.26857802e-01 -1.08864554e-03\n",
      "  -7.86279887e-02  9.90515500e-02  1.12150028e-01  2.58520335e-01\n",
      "  -2.26100925e-02 -1.53759057e-02 -1.05209224e-01  2.85302326e-02\n",
      "   2.04063114e-02 -1.34602830e-01  2.16201901e-01 -1.56125368e-03\n",
      "  -2.44291611e-02  4.46301669e-01 -2.84363050e-02  2.77920157e-01\n",
      "  -3.05880439e-02  1.15929388e-01 -1.89442746e-02  1.00352295e-01\n",
      "   1.45177217e-02  1.02079324e-01  4.87670563e-02  2.03172565e-01\n",
      "  -1.09964848e-01  2.30804667e-01  1.12779163e-01 -3.51786196e-01\n",
      "   2.91943979e-02  1.37668490e-01 -9.48298257e-03  4.48994637e-02\n",
      "   1.64225727e-01  1.56570017e-01  4.97223698e-02 -1.36244521e-01\n",
      "   3.86076123e-01  5.40191606e-02 -1.00916103e-02 -1.31050227e-02\n",
      "   1.42773181e-01  3.65269999e-03 -2.86158137e-02  4.87360284e-02\n",
      "  -2.37015169e-02  1.14381999e-01 -2.41468489e-01 -6.32218793e-02\n",
      "   1.30570263e-01  1.62954698e-03  8.21532086e-02  7.68718868e-03\n",
      "  -5.01250289e-03  8.46664142e-03 -1.45577103e-01 -1.19108362e-02\n",
      "   1.95129693e-01  3.74974944e-02  2.05875598e-02  1.02373719e-01]\n",
      " [ 1.75550357e-02 -1.59322411e-01 -1.64139122e-02  1.46152833e-02\n",
      "  -1.38553336e-01  2.08842367e-01  1.10801846e-01  1.58453420e-01\n",
      "  -3.14325979e-03 -8.92286561e-03  2.02904910e-01  1.08194217e-01\n",
      "   7.81989023e-02  1.67696640e-01 -8.54833331e-03  9.42505430e-03\n",
      "  -1.28925741e-01 -2.15639502e-01  2.11874619e-02  2.37909436e-01\n",
      "  -8.93226918e-03 -2.53099948e-01  1.93967856e-02  4.51776162e-02\n",
      "  -9.96187236e-03  1.14028394e-01  2.00887378e-02 -1.52492542e-02\n",
      "   5.21601550e-02 -1.98008064e-02 -9.82316434e-02  3.08643609e-01\n",
      "  -1.11380173e-02 -8.06702003e-02 -1.22004651e-01  1.13300495e-01\n",
      "  -4.58168574e-02 -2.47008633e-02  4.02034819e-03  9.05765072e-02\n",
      "   2.65010864e-01  2.17818227e-02 -3.97754367e-03  2.00137161e-02\n",
      "   1.47891104e-01 -9.87616135e-04 -6.67365566e-02  3.72966565e-02\n",
      "  -3.36239375e-02 -4.75750640e-02  1.42901346e-01 -1.21935964e-01\n",
      "  -7.33459964e-02  4.06816369e-03  7.61133432e-02  1.48403540e-01\n",
      "   1.97393730e-01  1.36042014e-01  1.75596267e-01  6.49664458e-03\n",
      "   2.08610259e-02 -9.51775350e-03 -2.77773328e-02  9.83394682e-02]\n",
      " [ 3.85968760e-02  2.16241002e-01  1.40854582e-01 -6.09780801e-03\n",
      "   1.34393468e-01 -5.69005758e-02  1.62665740e-01  1.44400457e-02\n",
      "  -5.64538687e-03  1.72230676e-02  2.55018800e-01 -1.70397431e-01\n",
      "  -4.71869633e-02  2.50652968e-03 -4.31998260e-02 -1.25544621e-02\n",
      "   1.38653740e-02 -4.78887469e-01  3.87820229e-02 -1.56589851e-01\n",
      "   1.30298119e-02  2.00015053e-01 -2.31025200e-02  1.51721269e-01\n",
      "  -1.53494664e-02  1.38612017e-01  2.52355635e-01  2.67497480e-01\n",
      "   5.19907176e-02  8.22339579e-02 -1.96436457e-02  1.54642224e-01\n",
      "  -2.13221414e-03  2.18920391e-02  4.16392833e-02  9.19010192e-02\n",
      "   3.10489714e-01  4.85090986e-02  3.08269579e-02  4.16206211e-01\n",
      "  -3.43497097e-01  2.02297401e-02  1.39041170e-02 -6.70872582e-03\n",
      "   3.79579552e-02  7.64786673e-04  8.42034593e-02 -9.68030542e-02\n",
      "   3.66652869e-02  1.54936507e-01  3.67094219e-01  2.13033065e-01\n",
      "   4.40140665e-01 -1.24204016e-04 -3.02087694e-01  6.52612448e-02\n",
      "   5.94510995e-02 -3.07048708e-01  9.76665542e-02 -1.02556748e-02\n",
      "   8.09273720e-02 -4.43054289e-02  3.63767445e-02  9.66064185e-02]\n",
      " [ 8.59583821e-03 -2.26185098e-02 -1.47218667e-02 -1.49668334e-02\n",
      "  -2.21855263e-03 -1.19754806e-01 -9.23703536e-02 -9.88042653e-02\n",
      "  -1.83778070e-03 -1.56888049e-02 -1.78548209e-02  2.02425523e-03\n",
      "   1.75823957e-01 -9.94779244e-02 -8.33493844e-02 -2.57416134e-04\n",
      "  -5.44388145e-02  2.18681961e-01  8.83769989e-03 -6.27977625e-02\n",
      "  -1.11635989e-02  1.34616345e-02  2.67490651e-03 -6.71089888e-02\n",
      "  -3.66815086e-03 -7.88229853e-02 -6.01636730e-02 -1.06085144e-01\n",
      "  -1.08493432e-01 -4.85900529e-02 -7.49142095e-02 -2.19575949e-02\n",
      "  -2.04494479e-03  4.42273349e-01 -8.28405023e-02 -3.34891230e-02\n",
      "  -8.33839104e-02 -1.49371281e-01 -8.57551247e-02 -9.30452719e-02\n",
      "   5.43519631e-02 -2.56338455e-02 -1.32265845e-02 -9.07076243e-03\n",
      "  -6.66651204e-02 -1.69968121e-02  8.77152383e-03 -4.82478812e-02\n",
      "   8.95731524e-03 -5.29338904e-02 -7.92576838e-03 -4.05126587e-02\n",
      "  -7.65554830e-02 -2.09510941e-02 -5.60678206e-02 -1.01784430e-01\n",
      "  -3.74210924e-02  5.87776415e-02 -5.29926158e-02  1.73028875e-02\n",
      "  -4.68010157e-02  8.15573893e-03  3.55145708e-03 -9.35364664e-02]\n",
      " [ 1.54144866e-02  1.06132679e-01 -4.32564132e-02 -1.73217244e-02\n",
      "   7.94156417e-02  4.03718874e-02 -7.35293776e-02 -1.02321036e-01\n",
      "   4.93350951e-03  1.16562168e-03 -2.88918197e-01 -2.63329893e-02\n",
      "   2.74779946e-02  1.07504100e-01 -6.73018992e-02 -3.51969991e-03\n",
      "   1.28228441e-01  3.35912228e-01 -1.88386545e-03  7.27461791e-03\n",
      "  -2.37750472e-03  2.41545185e-01 -4.41633957e-03  1.97917029e-01\n",
      "  -1.30634475e-02 -1.18831635e-01 -2.50170797e-01  2.29886360e-02\n",
      "  -7.84618855e-02  3.35441642e-02  6.16960190e-02 -3.59220393e-02\n",
      "  -6.15882222e-03  1.37036711e-01 -3.59144434e-03 -6.24836609e-02\n",
      "  -4.83957119e-02  5.66434823e-02  5.51368967e-02 -1.74939513e-01\n",
      "   1.71680227e-01  1.27375647e-01 -1.66625902e-02  2.19698576e-03\n",
      "  -9.42728296e-02 -1.34577835e-02  2.82516211e-01  3.25442664e-02\n",
      "   2.99733840e-02 -1.90928861e-01  4.09049004e-01  7.86782429e-02\n",
      "   1.17154978e-01 -1.14255995e-02 -1.47958666e-01  1.00741573e-01\n",
      "   9.27710608e-02  3.75224680e-01  3.55583191e-01  1.01759017e-03\n",
      "   5.45005463e-02  3.33729722e-02 -3.91247170e-03  1.50632367e-01]\n",
      " [-5.25132893e-03 -3.57646979e-02  1.13999546e-01 -2.35306262e-03\n",
      "   2.75784165e-01  2.00963870e-01 -1.95838213e-02 -1.14575014e-01\n",
      "   1.83877535e-02  1.09290862e-02  1.64116159e-01  1.52871788e-01\n",
      "  -9.47782695e-02  7.79284388e-02  1.96437687e-01 -1.33873997e-02\n",
      "   4.27559651e-02  3.80947828e-01  1.56379007e-02  2.55642116e-01\n",
      "   4.37678397e-02  5.15474640e-02  6.96223462e-03 -4.65307310e-02\n",
      "  -4.35458822e-03  2.00280198e-03  6.83591440e-02 -8.95983502e-02\n",
      "   3.25278521e-01  6.14307895e-02  7.36954883e-02 -2.37949472e-02\n",
      "   1.15378713e-02 -7.32394755e-02  2.53665745e-01  1.33646190e-01\n",
      "   5.44002727e-02  1.04003966e-01  2.61137366e-01  4.06591296e-02\n",
      "  -4.30324189e-02  2.86826883e-02 -2.33172830e-02  4.05784184e-03\n",
      "  -9.97356605e-03  1.21123577e-02 -1.92773044e-01 -1.22571429e-02\n",
      "  -1.86189339e-02  8.75884071e-02 -8.66391584e-02  1.67452827e-01\n",
      "  -1.23577096e-01  2.29244251e-02  3.05623353e-01  1.13612056e-01\n",
      "   1.02979332e-01 -3.54862288e-02 -1.17382556e-01  1.27795786e-02\n",
      "  -4.00678664e-02  4.09880430e-02  2.32916176e-02 -7.43758827e-02]\n",
      " [ 1.71203390e-02 -1.15346864e-01  2.10164040e-01 -1.41282519e-03\n",
      "   5.14878035e-02  9.21591297e-02  1.71103776e-01  1.14597753e-01\n",
      "   1.49018143e-03 -3.84911109e-04 -1.77575767e-01  1.24633692e-01\n",
      "   1.25112161e-01  9.42958966e-02 -2.65945457e-02 -1.85028359e-03\n",
      "   3.01038086e-01 -6.92943111e-02 -2.88276747e-02 -2.02813283e-01\n",
      "   2.66280230e-02 -1.01587735e-01  5.69057046e-03  1.19179823e-02\n",
      "   1.18859923e-02  1.21094652e-01 -2.39712134e-01 -1.56117052e-01\n",
      "  -2.93115322e-02  5.14992289e-02  8.90623257e-02 -2.14968070e-01\n",
      "   9.72283818e-03 -1.00554436e-01  7.40558878e-02 -1.54967144e-01\n",
      "  -7.95198157e-02  2.10409798e-02 -7.59229288e-02 -1.88148990e-01\n",
      "  -2.55825430e-01 -4.56107594e-02 -3.34014744e-03  3.91591378e-02\n",
      "   1.98251083e-01 -8.95554014e-03  7.37594068e-02  2.36394599e-01\n",
      "   1.64576303e-02  1.56241596e-01 -1.33387625e-01  1.50572702e-01\n",
      "  -7.57729113e-02 -2.37372369e-02  1.64837137e-01 -9.18020010e-02\n",
      "  -1.59097627e-01  3.21256161e-01  1.39215574e-01  9.93655622e-03\n",
      "   2.15274096e-01 -3.16277705e-02 -5.76837435e-02  1.45356134e-01]\n",
      " [-4.49404400e-03  1.42448740e-02 -3.72416340e-02 -6.28668396e-03\n",
      "  -4.23753820e-02 -1.50071859e-01  3.26319896e-02  9.23679024e-02\n",
      "  -2.16720272e-02 -5.82743483e-03  1.42605916e-01 -2.70072278e-02\n",
      "   1.73255458e-01 -8.53792485e-03 -1.64844379e-01 -3.20064928e-03\n",
      "   1.37650771e-02  3.44780505e-01 -4.04647319e-03 -7.05908909e-02\n",
      "   3.81965679e-03 -3.96821685e-02 -3.92594887e-03 -4.53546941e-02\n",
      "  -3.21310088e-02  2.48023737e-02  1.42509438e-04 -1.22076645e-01\n",
      "  -5.36730066e-02 -4.54011150e-02 -1.16780438e-01  1.06762543e-01\n",
      "  -1.12873930e-02  3.35380077e-01 -1.01512544e-01 -5.38794361e-02\n",
      "  -4.72590029e-02 -1.52267396e-01 -9.50758979e-02 -1.58221617e-01\n",
      "   1.02053657e-01  8.62819795e-03 -1.41702555e-02  4.56751371e-03\n",
      "  -6.16058894e-02  1.16051380e-02  2.14107677e-01 -1.90808624e-01\n",
      "  -1.15185825e-03 -2.95517370e-02 -2.98153758e-02  2.47958340e-02\n",
      "   1.14590479e-02  1.79335047e-02  5.25122546e-02 -2.64937710e-02\n",
      "  -8.11119303e-02  2.60117557e-02 -8.26982036e-02 -7.43338605e-04\n",
      "  -5.85895451e-03 -2.42105656e-04 -3.14236758e-03  3.94382030e-02]]\n"
     ]
    }
   ],
   "source": [
    "# Now, we want to add a watermark into the fc2 weights\n",
    "with torch.no_grad():\n",
    "    for name, param in net.named_parameters():\n",
    "        if name == 'fc2.weight':\n",
    "            param_data = param.cpu().numpy()\n",
    "            print(param_data)"
   ]
  },
  {
   "cell_type": "code",
   "execution_count": 12,
   "id": "4b658fbb-d311-44e0-acef-0c35a0d3466a",
   "metadata": {},
   "outputs": [],
   "source": [
    "watermark = \"AI4SS\"\n",
    "add_watermark_lsb(net, watermark)"
   ]
  },
  {
   "cell_type": "code",
   "execution_count": 13,
   "id": "9a82fdeb-e81b-47ff-93d4-3e565164a9b0",
   "metadata": {},
   "outputs": [
    {
     "name": "stdout",
     "output_type": "stream",
     "text": [
      "[[ 8.80950131e-03  5.62173128e-01 -1.26857802e-01 -1.08864554e-03\n",
      "  -1.96569972e-02  2.47628875e-02  2.80375071e-02  1.03408134e+00\n",
      "  -2.26100925e-02 -6.15036227e-02 -2.63023060e-02  2.85302326e-02\n",
      "   8.16252455e-02 -1.34602830e-01  2.16201901e-01 -6.24501472e-03\n",
      "  -2.44291611e-02  4.46301669e-01 -1.13745220e-01  1.11168063e+00\n",
      "  -3.05880439e-02  1.15929388e-01 -1.89442746e-02  2.50880737e-02\n",
      "   1.45177217e-02  1.02079324e-01  1.21917641e-02  8.12690258e-01\n",
      "  -2.74912119e-02  2.30804667e-01  1.12779163e-01 -1.40714478e+00\n",
      "   2.91943979e-02  5.50673962e-01 -9.48298257e-03  4.48994637e-02\n",
      "   1.64225727e-01  1.56570017e-01  4.97223698e-02 -5.44978082e-01\n",
      "   3.86076123e-01  5.40191606e-02 -1.00916103e-02 -1.31050227e-02\n",
      "   1.42773181e-01  3.65269999e-03 -2.86158137e-02  4.87360284e-02\n",
      "  -2.37015169e-02  1.14381999e-01 -2.41468489e-01 -6.32218793e-02\n",
      "   1.30570263e-01  1.62954698e-03  8.21532086e-02  7.68718868e-03\n",
      "  -5.01250289e-03  8.46664142e-03 -1.45577103e-01 -1.19108362e-02\n",
      "   1.95129693e-01  3.74974944e-02  2.05875598e-02  1.02373719e-01]\n",
      " [ 1.75550357e-02 -1.59322411e-01 -1.64139122e-02  1.46152833e-02\n",
      "  -1.38553336e-01  2.08842367e-01  1.10801846e-01  1.58453420e-01\n",
      "  -3.14325979e-03 -8.92286561e-03  2.02904910e-01  1.08194217e-01\n",
      "   7.81989023e-02  1.67696640e-01 -8.54833331e-03  9.42505430e-03\n",
      "  -1.28925741e-01 -2.15639502e-01  2.11874619e-02  2.37909436e-01\n",
      "  -8.93226918e-03 -2.53099948e-01  1.93967856e-02  4.51776162e-02\n",
      "  -9.96187236e-03  1.14028394e-01  2.00887378e-02 -1.52492542e-02\n",
      "   5.21601550e-02 -1.98008064e-02 -9.82316434e-02  3.08643609e-01\n",
      "  -1.11380173e-02 -8.06702003e-02 -1.22004651e-01  1.13300495e-01\n",
      "  -4.58168574e-02 -2.47008633e-02  4.02034819e-03  9.05765072e-02\n",
      "   2.65010864e-01  2.17818227e-02 -3.97754367e-03  2.00137161e-02\n",
      "   1.47891104e-01 -9.87616135e-04 -6.67365566e-02  3.72966565e-02\n",
      "  -3.36239375e-02 -4.75750640e-02  1.42901346e-01 -1.21935964e-01\n",
      "  -7.33459964e-02  4.06816369e-03  7.61133432e-02  1.48403540e-01\n",
      "   1.97393730e-01  1.36042014e-01  1.75596267e-01  6.49664458e-03\n",
      "   2.08610259e-02 -9.51775350e-03 -2.77773328e-02  9.83394682e-02]\n",
      " [ 3.85968760e-02  2.16241002e-01  1.40854582e-01 -6.09780801e-03\n",
      "   1.34393468e-01 -5.69005758e-02  1.62665740e-01  1.44400457e-02\n",
      "  -5.64538687e-03  1.72230676e-02  2.55018800e-01 -1.70397431e-01\n",
      "  -4.71869633e-02  2.50652968e-03 -4.31998260e-02 -1.25544621e-02\n",
      "   1.38653740e-02 -4.78887469e-01  3.87820229e-02 -1.56589851e-01\n",
      "   1.30298119e-02  2.00015053e-01 -2.31025200e-02  1.51721269e-01\n",
      "  -1.53494664e-02  1.38612017e-01  2.52355635e-01  2.67497480e-01\n",
      "   5.19907176e-02  8.22339579e-02 -1.96436457e-02  1.54642224e-01\n",
      "  -2.13221414e-03  2.18920391e-02  4.16392833e-02  9.19010192e-02\n",
      "   3.10489714e-01  4.85090986e-02  3.08269579e-02  4.16206211e-01\n",
      "  -3.43497097e-01  2.02297401e-02  1.39041170e-02 -6.70872582e-03\n",
      "   3.79579552e-02  7.64786673e-04  8.42034593e-02 -9.68030542e-02\n",
      "   3.66652869e-02  1.54936507e-01  3.67094219e-01  2.13033065e-01\n",
      "   4.40140665e-01 -1.24204016e-04 -3.02087694e-01  6.52612448e-02\n",
      "   5.94510995e-02 -3.07048708e-01  9.76665542e-02 -1.02556748e-02\n",
      "   8.09273720e-02 -4.43054289e-02  3.63767445e-02  9.66064185e-02]\n",
      " [ 8.59583821e-03 -2.26185098e-02 -1.47218667e-02 -1.49668334e-02\n",
      "  -2.21855263e-03 -1.19754806e-01 -9.23703536e-02 -9.88042653e-02\n",
      "  -1.83778070e-03 -1.56888049e-02 -1.78548209e-02  2.02425523e-03\n",
      "   1.75823957e-01 -9.94779244e-02 -8.33493844e-02 -2.57416134e-04\n",
      "  -5.44388145e-02  2.18681961e-01  8.83769989e-03 -6.27977625e-02\n",
      "  -1.11635989e-02  1.34616345e-02  2.67490651e-03 -6.71089888e-02\n",
      "  -3.66815086e-03 -7.88229853e-02 -6.01636730e-02 -1.06085144e-01\n",
      "  -1.08493432e-01 -4.85900529e-02 -7.49142095e-02 -2.19575949e-02\n",
      "  -2.04494479e-03  4.42273349e-01 -8.28405023e-02 -3.34891230e-02\n",
      "  -8.33839104e-02 -1.49371281e-01 -8.57551247e-02 -9.30452719e-02\n",
      "   5.43519631e-02 -2.56338455e-02 -1.32265845e-02 -9.07076243e-03\n",
      "  -6.66651204e-02 -1.69968121e-02  8.77152383e-03 -4.82478812e-02\n",
      "   8.95731524e-03 -5.29338904e-02 -7.92576838e-03 -4.05126587e-02\n",
      "  -7.65554830e-02 -2.09510941e-02 -5.60678206e-02 -1.01784430e-01\n",
      "  -3.74210924e-02  5.87776415e-02 -5.29926158e-02  1.73028875e-02\n",
      "  -4.68010157e-02  8.15573893e-03  3.55145708e-03 -9.35364664e-02]\n",
      " [ 1.54144866e-02  1.06132679e-01 -4.32564132e-02 -1.73217244e-02\n",
      "   7.94156417e-02  4.03718874e-02 -7.35293776e-02 -1.02321036e-01\n",
      "   4.93350951e-03  1.16562168e-03 -2.88918197e-01 -2.63329893e-02\n",
      "   2.74779946e-02  1.07504100e-01 -6.73018992e-02 -3.51969991e-03\n",
      "   1.28228441e-01  3.35912228e-01 -1.88386545e-03  7.27461791e-03\n",
      "  -2.37750472e-03  2.41545185e-01 -4.41633957e-03  1.97917029e-01\n",
      "  -1.30634475e-02 -1.18831635e-01 -2.50170797e-01  2.29886360e-02\n",
      "  -7.84618855e-02  3.35441642e-02  6.16960190e-02 -3.59220393e-02\n",
      "  -6.15882222e-03  1.37036711e-01 -3.59144434e-03 -6.24836609e-02\n",
      "  -4.83957119e-02  5.66434823e-02  5.51368967e-02 -1.74939513e-01\n",
      "   1.71680227e-01  1.27375647e-01 -1.66625902e-02  2.19698576e-03\n",
      "  -9.42728296e-02 -1.34577835e-02  2.82516211e-01  3.25442664e-02\n",
      "   2.99733840e-02 -1.90928861e-01  4.09049004e-01  7.86782429e-02\n",
      "   1.17154978e-01 -1.14255995e-02 -1.47958666e-01  1.00741573e-01\n",
      "   9.27710608e-02  3.75224680e-01  3.55583191e-01  1.01759017e-03\n",
      "   5.45005463e-02  3.33729722e-02 -3.91247170e-03  1.50632367e-01]\n",
      " [-5.25132893e-03 -3.57646979e-02  1.13999546e-01 -2.35306262e-03\n",
      "   2.75784165e-01  2.00963870e-01 -1.95838213e-02 -1.14575014e-01\n",
      "   1.83877535e-02  1.09290862e-02  1.64116159e-01  1.52871788e-01\n",
      "  -9.47782695e-02  7.79284388e-02  1.96437687e-01 -1.33873997e-02\n",
      "   4.27559651e-02  3.80947828e-01  1.56379007e-02  2.55642116e-01\n",
      "   4.37678397e-02  5.15474640e-02  6.96223462e-03 -4.65307310e-02\n",
      "  -4.35458822e-03  2.00280198e-03  6.83591440e-02 -8.95983502e-02\n",
      "   3.25278521e-01  6.14307895e-02  7.36954883e-02 -2.37949472e-02\n",
      "   1.15378713e-02 -7.32394755e-02  2.53665745e-01  1.33646190e-01\n",
      "   5.44002727e-02  1.04003966e-01  2.61137366e-01  4.06591296e-02\n",
      "  -4.30324189e-02  2.86826883e-02 -2.33172830e-02  4.05784184e-03\n",
      "  -9.97356605e-03  1.21123577e-02 -1.92773044e-01 -1.22571429e-02\n",
      "  -1.86189339e-02  8.75884071e-02 -8.66391584e-02  1.67452827e-01\n",
      "  -1.23577096e-01  2.29244251e-02  3.05623353e-01  1.13612056e-01\n",
      "   1.02979332e-01 -3.54862288e-02 -1.17382556e-01  1.27795786e-02\n",
      "  -4.00678664e-02  4.09880430e-02  2.32916176e-02 -7.43758827e-02]\n",
      " [ 1.71203390e-02 -1.15346864e-01  2.10164040e-01 -1.41282519e-03\n",
      "   5.14878035e-02  9.21591297e-02  1.71103776e-01  1.14597753e-01\n",
      "   1.49018143e-03 -3.84911109e-04 -1.77575767e-01  1.24633692e-01\n",
      "   1.25112161e-01  9.42958966e-02 -2.65945457e-02 -1.85028359e-03\n",
      "   3.01038086e-01 -6.92943111e-02 -2.88276747e-02 -2.02813283e-01\n",
      "   2.66280230e-02 -1.01587735e-01  5.69057046e-03  1.19179823e-02\n",
      "   1.18859923e-02  1.21094652e-01 -2.39712134e-01 -1.56117052e-01\n",
      "  -2.93115322e-02  5.14992289e-02  8.90623257e-02 -2.14968070e-01\n",
      "   9.72283818e-03 -1.00554436e-01  7.40558878e-02 -1.54967144e-01\n",
      "  -7.95198157e-02  2.10409798e-02 -7.59229288e-02 -1.88148990e-01\n",
      "  -2.55825430e-01 -4.56107594e-02 -3.34014744e-03  3.91591378e-02\n",
      "   1.98251083e-01 -8.95554014e-03  7.37594068e-02  2.36394599e-01\n",
      "   1.64576303e-02  1.56241596e-01 -1.33387625e-01  1.50572702e-01\n",
      "  -7.57729113e-02 -2.37372369e-02  1.64837137e-01 -9.18020010e-02\n",
      "  -1.59097627e-01  3.21256161e-01  1.39215574e-01  9.93655622e-03\n",
      "   2.15274096e-01 -3.16277705e-02 -5.76837435e-02  1.45356134e-01]\n",
      " [-4.49404400e-03  1.42448740e-02 -3.72416340e-02 -6.28668396e-03\n",
      "  -4.23753820e-02 -1.50071859e-01  3.26319896e-02  9.23679024e-02\n",
      "  -2.16720272e-02 -5.82743483e-03  1.42605916e-01 -2.70072278e-02\n",
      "   1.73255458e-01 -8.53792485e-03 -1.64844379e-01 -3.20064928e-03\n",
      "   1.37650771e-02  3.44780505e-01 -4.04647319e-03 -7.05908909e-02\n",
      "   3.81965679e-03 -3.96821685e-02 -3.92594887e-03 -4.53546941e-02\n",
      "  -3.21310088e-02  2.48023737e-02  1.42509438e-04 -1.22076645e-01\n",
      "  -5.36730066e-02 -4.54011150e-02 -1.16780438e-01  1.06762543e-01\n",
      "  -1.12873930e-02  3.35380077e-01 -1.01512544e-01 -5.38794361e-02\n",
      "  -4.72590029e-02 -1.52267396e-01 -9.50758979e-02 -1.58221617e-01\n",
      "   1.02053657e-01  8.62819795e-03 -1.41702555e-02  4.56751371e-03\n",
      "  -6.16058894e-02  1.16051380e-02  2.14107677e-01 -1.90808624e-01\n",
      "  -1.15185825e-03 -2.95517370e-02 -2.98153758e-02  2.47958340e-02\n",
      "   1.14590479e-02  1.79335047e-02  5.25122546e-02 -2.64937710e-02\n",
      "  -8.11119303e-02  2.60117557e-02 -8.26982036e-02 -7.43338605e-04\n",
      "  -5.85895451e-03 -2.42105656e-04 -3.14236758e-03  3.94382030e-02]]\n"
     ]
    }
   ],
   "source": [
    "# Check\n",
    "with torch.no_grad():\n",
    "    for name, param in net.named_parameters():\n",
    "        if name == 'fc2.weight':\n",
    "            param_data = param.cpu().numpy()\n",
    "            print(param_data)"
   ]
  },
  {
   "cell_type": "code",
   "execution_count": 14,
   "id": "67469a4c-fa39-474f-8f31-c0a3b483a5c0",
   "metadata": {},
   "outputs": [
    {
     "name": "stdout",
     "output_type": "stream",
     "text": [
      "Accuracy: 94.68%\n"
     ]
    }
   ],
   "source": [
    "correct, total = test(net, test_loader)\n",
    "print(f'Accuracy: {100 * correct / total}%')"
   ]
  },
  {
   "cell_type": "code",
   "execution_count": 15,
   "id": "caf4d641-78fe-4241-8b02-a0e3bce54886",
   "metadata": {},
   "outputs": [
    {
     "name": "stdout",
     "output_type": "stream",
     "text": [
      "Extracted watermark: AI4SS\n"
     ]
    }
   ],
   "source": [
    "extracted_watermark = extract_watermark(net, len(watermark))\n",
    "print(f'Extracted watermark: {extracted_watermark}')"
   ]
  },
  {
   "cell_type": "code",
   "execution_count": null,
   "id": "5398fe9f-df51-4e45-80ba-1dc1570317e7",
   "metadata": {},
   "outputs": [],
   "source": []
  }
 ],
 "metadata": {
  "kernelspec": {
   "display_name": "Python 3 (ipykernel)",
   "language": "python",
   "name": "python3"
  },
  "language_info": {
   "codemirror_mode": {
    "name": "ipython",
    "version": 3
   },
   "file_extension": ".py",
   "mimetype": "text/x-python",
   "name": "python",
   "nbconvert_exporter": "python",
   "pygments_lexer": "ipython3",
   "version": "3.10.0"
  }
 },
 "nbformat": 4,
 "nbformat_minor": 5
}
